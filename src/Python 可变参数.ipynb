{
 "cells": [
  {
   "cell_type": "markdown",
   "metadata": {},
   "source": [
    "# 可变参数之数组参数 `*args`\n",
    "\n",
    "这里介绍一下什么是 `*args` 可变参数。"
   ]
  },
  {
   "cell_type": "code",
   "execution_count": 1,
   "metadata": {},
   "outputs": [
    {
     "name": "stdout",
     "output_type": "stream",
     "text": [
      "1\n",
      "(2, 3, 4, 5)\n"
     ]
    }
   ],
   "source": [
    "def argsFunc(a, *args):\n",
    "    print(a)\n",
    "    print(args)\n",
    "\n",
    "argsFunc(1, 2, 3, 4, 5)"
   ]
  },
  {
   "cell_type": "markdown",
   "metadata": {},
   "source": [
    "# 可变参数之字典参数 `**kwargs`\n",
    "\n",
    "形参名前加 `**` 表示，参数在函数内部将被存放在以形式名为标识符的 `dictionary` 中，这时调用函数的方法则需要采用 \n",
    "\n",
    "``` Python\n",
    "arg1 = value1,\n",
    "arg2 = value2\n",
    "```\n",
    "\n",
    "这样的形式。"
   ]
  },
  {
   "cell_type": "code",
   "execution_count": 2,
   "metadata": {},
   "outputs": [
    {
     "name": "stdout",
     "output_type": "stream",
     "text": [
      "{'a': 10, 'b': 20}\n"
     ]
    }
   ],
   "source": [
    "# 字典参数示例\n",
    "\n",
    "def dictParameterDemo(**args):\n",
    "    print(args)\n",
    "\n",
    "dictParameterDemo(a = 10, b = 20)"
   ]
  },
  {
   "cell_type": "markdown",
   "metadata": {},
   "source": [
    "下面列举一个很简单的例子来展示这种参数的某个使用场景。\n",
    "\n",
    "``` Python\n",
    "# 这是一个不太优雅的实现\n",
    "\n",
    "import mysql.connector  \n",
    "\n",
    "db_conf = {\n",
    "    'user':'xx',\n",
    "    'password':'yy', \n",
    "    'host':'xxx.xxx.xxx.xxx',\n",
    "    'database':'zz'\n",
    "}\n",
    "\n",
    "cnx = mysql.connector.connect(\n",
    "    user=db_conf['user'],\n",
    "    password=db_conf['password'], \n",
    "    host=db_conf['host'],\n",
    "    database=db_conf['database']\n",
    ")\n",
    "```\n",
    "\n",
    "如果用字典不定参数就可以直接搞定。\n",
    "\n",
    "``` Python\n",
    "import mysql.connector  \n",
    "\n",
    "db_conf = {\n",
    "\tuser='xx',\n",
    "\tpassword='yy', \n",
    "\thost='xxx.xxx.xxx.xxx',\n",
    "\tdatabase='zz'\n",
    "}\n",
    "\n",
    "cnx = mysql.connector.connect(**db_conf)\n",
    "```\n",
    "\n",
    "如果 `*args` 和 `**kwargs` 一起用会发生什么呢？"
   ]
  },
  {
   "cell_type": "code",
   "execution_count": 3,
   "metadata": {},
   "outputs": [
    {
     "name": "stdout",
     "output_type": "stream",
     "text": [
      "(1, 2, 3)\n",
      "{'a': 10, 'b': 10}\n"
     ]
    }
   ],
   "source": [
    "def together(*args, **kwargs):\n",
    "    print(args)\n",
    "    print(kwargs)\n",
    "\n",
    "together(1, 2, 3, a=10, b = 10)"
   ]
  },
  {
   "cell_type": "code",
   "execution_count": null,
   "metadata": {},
   "outputs": [],
   "source": []
  }
 ],
 "metadata": {
  "kernelspec": {
   "display_name": "Python 3",
   "language": "python",
   "name": "python3"
  },
  "language_info": {
   "codemirror_mode": {
    "name": "ipython",
    "version": 3
   },
   "file_extension": ".py",
   "mimetype": "text/x-python",
   "name": "python",
   "nbconvert_exporter": "python",
   "pygments_lexer": "ipython3",
   "version": "3.8.2"
  }
 },
 "nbformat": 4,
 "nbformat_minor": 4
}
