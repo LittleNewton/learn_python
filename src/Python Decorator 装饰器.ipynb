{
 "cells": [
  {
   "cell_type": "markdown",
   "metadata": {},
   "source": [
    "# Python 装饰器\n",
    "\n",
    "装饰器可以让一个 Python 函数拥有原本没有的功能，也就是你可以通过装饰器，让一个平淡无奇的函数变的强大，变的漂亮。举几个现实中的例子\n",
    "\n",
    "1. 你一个男的程序员，穿上女装，戴上假发，你就有了女人的外表（穿女装、戴假发的过程就是新的特效，你拥有了女人的外表，你原来的小jj还在，没有消失）\n",
    "2. 你新买的毛坯房，装修，买家具后变好看了（装修、家具就是新的特效）\n",
    "3. 孙悟空被放进炼丹炉装饰了一下，出来后，学会了火眼金睛，以前的本领都还在\n",
    "\n",
    "作者：python教程\n",
    "链接：https://www.zhihu.com/question/271201015/answer/360295993"
   ]
  },
  {
   "cell_type": "code",
   "execution_count": 1,
   "metadata": {},
   "outputs": [
    {
     "name": "stdout",
     "output_type": "stream",
     "text": [
      "有火眼金睛了\n",
      "吃桃子\n"
     ]
    }
   ],
   "source": [
    "def 炼丹炉(func): # func就是‘孙悟空’这个函数\n",
    "    \n",
    "    #*args, **kwargs就是‘孙悟空’的参数列表，这里的‘孙悟空’函数没有传参数，我们写上也不影响，建议都写上\n",
    "    def 变身(*args, **kwargs):\n",
    "        \n",
    "        # 加特效，增加新功能，比如孙悟空的进了炼丹炉后，有了火眼金睛技能\n",
    "        print('有火眼金睛了')\n",
    "        \n",
    "        #保留原来的功能，原来孙悟空的技能，如吃桃子\n",
    "        return func(*args, **kwargs)\n",
    "    # 炼丹成功，更强大的，有了火眼金睛技能的孙悟空出世\n",
    "    return 变身\n",
    "\n",
    "@炼丹炉\n",
    "def 孙悟空():\n",
    "    print('吃桃子')\n",
    "\n",
    "孙悟空()\n",
    "# 输出:\n",
    "# 有火眼金睛了\n",
    "# 吃桃子"
   ]
  },
  {
   "cell_type": "code",
   "execution_count": 2,
   "metadata": {},
   "outputs": [
    {
     "name": "stdout",
     "output_type": "stream",
     "text": [
      "-1\n"
     ]
    }
   ],
   "source": [
    "# \n",
    "def AddNewFeature(func):\n",
    "    def NewFeature(*args, **kwargs):\n",
    "        if (args[0] > args[1]):\n",
    "            func(*args, **argv)\n",
    "        else:\n",
    "            print(args[0] - args[1])\n",
    "    return NewFeature\n",
    "\n",
    "@AddNewFeature\n",
    "def calculate(a, b):\n",
    "    print(a + b)\n",
    "\n",
    "calculate(1, 2)"
   ]
  },
  {
   "cell_type": "markdown",
   "metadata": {},
   "source": [
    "## 多装饰器的执行流\n",
    "\n",
    "接下来展示一个很简单的多装饰器执行流。"
   ]
  },
  {
   "cell_type": "code",
   "execution_count": 3,
   "metadata": {},
   "outputs": [
    {
     "name": "stdout",
     "output_type": "stream",
     "text": [
      "1 学会飞、72变了\n",
      "2 有金箍棒了\n",
      "3 有火眼金睛了\n",
      "吃桃子\n"
     ]
    }
   ],
   "source": [
    "def 炼丹炉(func):\n",
    "    def 变身(*args, **kwargs):\n",
    "        print('3 有火眼金睛了')\n",
    "        return func(*args, **kwargs)\n",
    "    return 变身\n",
    "\n",
    "def 龙宫走一趟(func):\n",
    "    def 你好(*args, **kwargs):\n",
    "        print('2 有金箍棒了')\n",
    "        return func(*args, **kwargs)\n",
    "    return 你好\n",
    "\n",
    "def 拜师学艺(func):\n",
    "    def 师傅(*args, **kwargs):\n",
    "        print('1 学会飞、72变了')\n",
    "        return func(*args, **kwargs)\n",
    "    return 师傅\n",
    "\n",
    "@拜师学艺\n",
    "@龙宫走一趟\n",
    "@炼丹炉  \n",
    "def 孙悟空():\n",
    "    print('吃桃子')\n",
    "\n",
    "孙悟空()\n",
    "# 输出\n",
    "# 学会飞、72变了\n",
    "# 有金箍棒了\n",
    "# 有火眼金睛了\n",
    "# 吃桃子"
   ]
  },
  {
   "cell_type": "markdown",
   "metadata": {},
   "source": [
    "接下来展示一个简单的装饰器实例。\n",
    "\n",
    "当函数被装饰器修饰之后，运行该函数时，解释器会**直接把控制流交给装饰器函数**。\n",
    "\n",
    "- 为了保证装饰器函数的行为与原函数差不太多，应该要保证**装饰器函数的返回值与原函数一致**\n",
    "- 注意传递参数，否则装饰器无法调用原函数\n",
    "\n",
    "> 参考视频：https://www.bilibili.com/video/BV11s411V7Dt"
   ]
  },
  {
   "cell_type": "code",
   "execution_count": 4,
   "metadata": {
    "scrolled": true
   },
   "outputs": [
    {
     "name": "stdout",
     "output_type": "stream",
     "text": [
      "总计运行时间为：0.00299 s\n"
     ]
    },
    {
     "data": {
      "text/plain": [
       "2500"
      ]
     },
     "execution_count": 4,
     "metadata": {},
     "output_type": "execute_result"
    }
   ],
   "source": [
    "import time\n",
    "\n",
    "# 装饰器函数\n",
    "def displayTime(func):\n",
    "    \n",
    "    # wrapper 是装饰器的具体内容\n",
    "    def wrapper(*args):\n",
    "        t1 = time.time()\n",
    "        # *args 是一个列表，直接用就可以\n",
    "        result = func(*args)\n",
    "        t2 = time.time()\n",
    "        print(\"总计运行时间为：{:.4} s\".format(t2 - t1))\n",
    "        return result\n",
    "    return wrapper\n",
    "\n",
    "def isPrime(num):\n",
    "    if (num < 2):\n",
    "        return False\n",
    "    elif (num == 2):\n",
    "        return True\n",
    "    else:\n",
    "        for i in range(2, num):\n",
    "            if (num % i == 0):\n",
    "                return False\n",
    "            else:\n",
    "                return True\n",
    "\n",
    "@displayTime\n",
    "def countPrimeNums(maxNum):\n",
    "    count = 0\n",
    "    for i in range(2, maxNum):\n",
    "        if (isPrime(i)):\n",
    "            count = count + 1\n",
    "    return count\n",
    "\n",
    "countPrimeNums(5000)"
   ]
  },
  {
   "cell_type": "markdown",
   "metadata": {},
   "source": [
    "装饰器其实就是函数的继承？至少从形式上看起来很像。"
   ]
  },
  {
   "cell_type": "code",
   "execution_count": 5,
   "metadata": {},
   "outputs": [
    {
     "name": "stdout",
     "output_type": "stream",
     "text": [
      "总计运行时间为：0.001993 s\n"
     ]
    },
    {
     "data": {
      "text/plain": [
       "2500"
      ]
     },
     "execution_count": 5,
     "metadata": {},
     "output_type": "execute_result"
    }
   ],
   "source": [
    "import time\n",
    "\n",
    "# 装饰器函数\n",
    "def displayTime(func):\n",
    "        # wrapper 是装饰器的具体内容\n",
    "    def wrapper(*args):\n",
    "        t1 = time.time()\n",
    "        # *args 是一个列表，直接用就可以\n",
    "        result = func(*args)\n",
    "        t2 = time.time()\n",
    "        print(\"总计运行时间为：{:.4} s\".format(t2 - t1))\n",
    "        return result\n",
    "    \n",
    "    def wrapper2(args):\n",
    "        print(args)\n",
    "    \n",
    "    # 这个返回值是与某个函数相对应的，该返回值将决定这个装饰器具体选择哪个函数作为装饰器\n",
    "    return wrapper\n",
    "    \n",
    "\n",
    "\n",
    "def isPrime(num):\n",
    "    if (num < 2):\n",
    "        return False\n",
    "    elif (num == 2):\n",
    "        return True\n",
    "    else:\n",
    "        for i in range(2, num):\n",
    "            if (num % i == 0):\n",
    "                return False\n",
    "            else:\n",
    "                return True\n",
    "\n",
    "@displayTime\n",
    "def countPrimeNums(maxNum):\n",
    "    count = 0\n",
    "    for i in range(2, maxNum):\n",
    "        if (isPrime(i)):\n",
    "            count = count + 1\n",
    "    return count\n",
    "\n",
    "countPrimeNums(5000)"
   ]
  }
 ],
 "metadata": {
  "ipub": {
   "listcode": true,
   "listfigures": true,
   "listtables": true,
   "titlepage": {
    "author": "刘鹏",
    "email": "littleNewton6@outlook.com",
    "institution": [
     "Institution1",
     "Institution2"
    ],
    "subtitle": "Sub-Title",
    "supervisors": [
     "First Supervisor",
     "Second Supervisor"
    ],
    "tagline": "A tagline for the report.",
    "title": "Main-Title"
   },
   "toc": true
  },
  "kernelspec": {
   "display_name": "Python 3",
   "language": "python",
   "name": "python3"
  },
  "language_info": {
   "codemirror_mode": {
    "name": "ipython",
    "version": 3
   },
   "file_extension": ".py",
   "mimetype": "text/x-python",
   "name": "python",
   "nbconvert_exporter": "python",
   "pygments_lexer": "ipython3",
   "version": "3.8.2"
  }
 },
 "nbformat": 4,
 "nbformat_minor": 4
}
